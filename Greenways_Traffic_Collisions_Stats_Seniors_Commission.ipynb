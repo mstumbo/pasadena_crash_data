{
 "cells": [
  {
   "cell_type": "code",
   "execution_count": 1,
   "id": "c3801582-3872-44b2-aeab-04da7a7df7d9",
   "metadata": {},
   "outputs": [
    {
     "data": {
      "text/html": [
       "<style>\n",
       "table {float:left}\n",
       "</style>\n"
      ],
      "text/plain": [
       "<IPython.core.display.HTML object>"
      ]
     },
     "metadata": {},
     "output_type": "display_data"
    }
   ],
   "source": [
    "%%html\n",
    "<style>\n",
    "table {float:left}\n",
    "</style>"
   ]
  },
  {
   "cell_type": "code",
   "execution_count": 2,
   "id": "6405a1b7-4371-4722-a5c3-6a6dbbaa5637",
   "metadata": {},
   "outputs": [],
   "source": [
    "# Cross streets, [lat min, lat max], [lon min, lon max]\n",
    "streets = {\n",
    "    \"El Molino\": [\n",
    "        {\"Name\": \"Bonita Dr to Atchison St\",\n",
    "         \"lat min\": 0, \"lat max\": 90,\n",
    "         \"lon min\": -118.1373, \"lon max\": -118.1367}],\n",
    "    \"Wilson\": [\n",
    "        {\"Name\": \"California Blvd to Washington Blvd\",\n",
    "         \"lat min\": 34.13578, \"lat max\": 34.17,\n",
    "         \"lon min\": -118.12845, \"lon max\": -118.1276}],\n",
    "    \"Sierra Bonita\": [\n",
    "        {\"Name\": \"Colorado Blvd to Walnut Ave\",\n",
    "         \"lat min\": 34.14599, \"lat max\": 34.1463,\n",
    "         \"lon min\": -118.1172, \"lon max\": -118.117},\n",
    "        {\"Name\": \"Walnut Ave to Villa St\",\n",
    "         \"lat min\": 34.14956, \"lat max\": 34.15445,\n",
    "         \"lon min\": -118.1173, \"lon max\": -118.1169},\n",
    "        {\"Name\": \"Villa St to Washington Blvd\",\n",
    "         \"lat min\": 34.1544, \"lat max\": 34.16921,\n",
    "         \"lon min\": -118.1179, \"lon max\": -118.1176}],\n",
    "    \"Craig\": [\n",
    "        {\"Name\": \"Del Mar Blvd to Orange Grove Blvd\",\n",
    "         \"lat min\": 34.142, \"lat max\": 34.1595,\n",
    "         \"lon min\": -118.1064, \"lon max\": -118.106}]\n",
    "}"
   ]
  },
  {
   "cell_type": "markdown",
   "id": "07fa25dd-4bd2-400e-bda5-c319ec880ced",
   "metadata": {},
   "source": [
    "# Greenways Traffic Collision Stats\n",
    "This analysis uses the Pasadena Traffic Collision stats, which Pasadena provides at https://data.cityofpasadena.net/datasets/85f49ea583c24056968bee6e28162da4/explore. Pasadena last updated the data 5/5/22 and the data set was downloaded 7/12/23.\n",
    "\n",
    "This analysis uses GPS coordinates to assign the data to streets.\n",
    "\n",
    "| Street | Section | Latitude | Longitude |\n",
    "| :- | :- | :-: | :-: |\n",
    "| El Molino | Bonita Dr to Atchison St | - | -118,1373, -118.1367 |\n",
    "| Wilson | California Blvd to Washington Blvd | >34.13578 | -118.12845, -118.1276 |\n",
    "| Sierra Bonita | Colorado Blvd to Walnut Ave | 34.14599, 34.1463 |  -118.1172, -118.117 |\n",
    "|| Walnut Ave to Villa St | 34.14956, 34.15445 | -118.1173, -118.1169 |\n",
    "|| Villa St to Washington Blvd | 34.1544, 34.16921 | -118.1179, -118.1176 |\n",
    "| Craig | Del Mar Blvd to Orange Grove Blvd | 34.14607, 34.1595 | -118.1284, -118.1278 |"
   ]
  },
  {
   "cell_type": "markdown",
   "id": "c891788a-27a3-42fb-b866-a267e8548524",
   "metadata": {},
   "source": [
    "## Import libraries and Data"
   ]
  },
  {
   "cell_type": "code",
   "execution_count": 4,
   "id": "1a8a07fe-b77d-4834-8bea-3d0294bbaf6d",
   "metadata": {},
   "outputs": [],
   "source": [
    "import pandas as pd\n",
    "import plotly.express as px\n",
    "from IPython.display import display, Markdown\n",
    "df = pd.read_pickle('Traffic_Collisions.pkl')\n",
    "df.loc[(df.PartyAge1 <= 18),  'AgeGroup1'] = 'Child'\n",
    "df.loc[(df.PartyAge1 < 65) & (df.PartyAge1 > 18),  'AgeGroup1'] = 'Adult'\n",
    "df.loc[(df.PartyAge1 >= 65),  'AgeGroup1'] = 'Senior'\n",
    "df.loc[(df.PartyAge2 <= 18),  'AgeGroup2'] = 'Child'\n",
    "df.loc[(df.PartyAge2 < 65) & (df.PartyAge2 > 18),  'AgeGroup2'] = 'Adult'\n",
    "df.loc[(df.PartyAge2 >= 65),  'AgeGroup2'] = 'Senior'\n",
    "\n"
   ]
  },
  {
   "cell_type": "markdown",
   "id": "1ed10612-4072-4225-b1be-2d89f7828700",
   "metadata": {},
   "source": [
    "## Longitude Analysis"
   ]
  },
  {
   "cell_type": "code",
   "execution_count": 5,
   "id": "4f78ea56-de79-442a-94de-127099e4071e",
   "metadata": {},
   "outputs": [],
   "source": [
    "greenways_df = {}\n",
    "for street, sections in streets.items():\n",
    "    greenways_df[street] = pd.DataFrame()\n",
    "    for section in sections:\n",
    "        section_df = df.loc[(df['lat'] >= section['lat min']) & \n",
    "                            (df['lat'] <= section['lat max']) &\n",
    "                            (df['lon'] >= section['lon min']) & \n",
    "                            (df['lon'] <= section['lon max'])]\n",
    "        greenways_df[street] = pd.concat([greenways_df[street], section_df], ignore_index=True)"
   ]
  },
  {
   "cell_type": "code",
   "execution_count": 21,
   "id": "19e58478-1fe5-42d4-a49a-fd15109d263f",
   "metadata": {},
   "outputs": [
    {
     "data": {
      "text/markdown": [
       "## El Molino"
      ],
      "text/plain": [
       "<IPython.core.display.Markdown object>"
      ]
     },
     "metadata": {},
     "output_type": "display_data"
    },
    {
     "name": "stdout",
     "output_type": "stream",
     "text": [
      "Total collisions 489\n",
      "\n"
     ]
    },
    {
     "data": {
      "text/markdown": [
       "**Total Collisions: Killed or Injured**"
      ],
      "text/plain": [
       "<IPython.core.display.Markdown object>"
      ]
     },
     "metadata": {},
     "output_type": "display_data"
    },
    {
     "data": {
      "text/html": [
       "<div>\n",
       "<style scoped>\n",
       "    .dataframe tbody tr th:only-of-type {\n",
       "        vertical-align: middle;\n",
       "    }\n",
       "\n",
       "    .dataframe tbody tr th {\n",
       "        vertical-align: top;\n",
       "    }\n",
       "\n",
       "    .dataframe thead th {\n",
       "        text-align: right;\n",
       "    }\n",
       "</style>\n",
       "<table border=\"1\" class=\"dataframe\">\n",
       "  <thead>\n",
       "    <tr style=\"text-align: right;\">\n",
       "      <th></th>\n",
       "      <th>NoKilled</th>\n",
       "      <th>NoInjured</th>\n",
       "    </tr>\n",
       "  </thead>\n",
       "  <tbody>\n",
       "    <tr>\n",
       "      <th>sum</th>\n",
       "      <td>2</td>\n",
       "      <td>289</td>\n",
       "    </tr>\n",
       "  </tbody>\n",
       "</table>\n",
       "</div>"
      ],
      "text/plain": [
       "     NoKilled  NoInjured\n",
       "sum         2        289"
      ]
     },
     "metadata": {},
     "output_type": "display_data"
    },
    {
     "name": "stdout",
     "output_type": "stream",
     "text": [
      "Collisions with injuries: 203\n",
      "Collisions with deaths: 2\n"
     ]
    },
    {
     "data": {
      "text/markdown": [
       "**Collisions Involving Bikes: Killed or Injured**"
      ],
      "text/plain": [
       "<IPython.core.display.Markdown object>"
      ]
     },
     "metadata": {},
     "output_type": "display_data"
    },
    {
     "data": {
      "text/html": [
       "<div>\n",
       "<style scoped>\n",
       "    .dataframe tbody tr th:only-of-type {\n",
       "        vertical-align: middle;\n",
       "    }\n",
       "\n",
       "    .dataframe tbody tr th {\n",
       "        vertical-align: top;\n",
       "    }\n",
       "\n",
       "    .dataframe thead th {\n",
       "        text-align: right;\n",
       "    }\n",
       "</style>\n",
       "<table border=\"1\" class=\"dataframe\">\n",
       "  <thead>\n",
       "    <tr style=\"text-align: right;\">\n",
       "      <th></th>\n",
       "      <th>NoKilled</th>\n",
       "      <th>NoInjured</th>\n",
       "    </tr>\n",
       "  </thead>\n",
       "  <tbody>\n",
       "    <tr>\n",
       "      <th>sum</th>\n",
       "      <td>0</td>\n",
       "      <td>22</td>\n",
       "    </tr>\n",
       "  </tbody>\n",
       "</table>\n",
       "</div>"
      ],
      "text/plain": [
       "     NoKilled  NoInjured\n",
       "sum         0         22"
      ]
     },
     "metadata": {},
     "output_type": "display_data"
    },
    {
     "name": "stdout",
     "output_type": "stream",
     "text": [
      "Collisions with injuries: 21\n",
      "Collisions with deaths: 0\n"
     ]
    },
    {
     "data": {
      "text/markdown": [
       "**Collisions Involving Pedestrians: Killed or Injured**"
      ],
      "text/plain": [
       "<IPython.core.display.Markdown object>"
      ]
     },
     "metadata": {},
     "output_type": "display_data"
    },
    {
     "data": {
      "text/html": [
       "<div>\n",
       "<style scoped>\n",
       "    .dataframe tbody tr th:only-of-type {\n",
       "        vertical-align: middle;\n",
       "    }\n",
       "\n",
       "    .dataframe tbody tr th {\n",
       "        vertical-align: top;\n",
       "    }\n",
       "\n",
       "    .dataframe thead th {\n",
       "        text-align: right;\n",
       "    }\n",
       "</style>\n",
       "<table border=\"1\" class=\"dataframe\">\n",
       "  <thead>\n",
       "    <tr style=\"text-align: right;\">\n",
       "      <th></th>\n",
       "      <th>NoKilled</th>\n",
       "      <th>NoInjured</th>\n",
       "    </tr>\n",
       "  </thead>\n",
       "  <tbody>\n",
       "    <tr>\n",
       "      <th>sum</th>\n",
       "      <td>0</td>\n",
       "      <td>28</td>\n",
       "    </tr>\n",
       "  </tbody>\n",
       "</table>\n",
       "</div>"
      ],
      "text/plain": [
       "     NoKilled  NoInjured\n",
       "sum         0         28"
      ]
     },
     "metadata": {},
     "output_type": "display_data"
    },
    {
     "name": "stdout",
     "output_type": "stream",
     "text": [
      "Collisions with injuries: 22\n",
      "Collisions with deaths: 0\n"
     ]
    },
    {
     "data": {
      "text/markdown": [
       "**Collisions Involving Children: Killed or Injured**"
      ],
      "text/plain": [
       "<IPython.core.display.Markdown object>"
      ]
     },
     "metadata": {},
     "output_type": "display_data"
    },
    {
     "data": {
      "text/html": [
       "<div>\n",
       "<style scoped>\n",
       "    .dataframe tbody tr th:only-of-type {\n",
       "        vertical-align: middle;\n",
       "    }\n",
       "\n",
       "    .dataframe tbody tr th {\n",
       "        vertical-align: top;\n",
       "    }\n",
       "\n",
       "    .dataframe thead th {\n",
       "        text-align: right;\n",
       "    }\n",
       "</style>\n",
       "<table border=\"1\" class=\"dataframe\">\n",
       "  <thead>\n",
       "    <tr style=\"text-align: right;\">\n",
       "      <th></th>\n",
       "      <th>NoKilled</th>\n",
       "      <th>NoInjured</th>\n",
       "    </tr>\n",
       "  </thead>\n",
       "  <tbody>\n",
       "    <tr>\n",
       "      <th>sum</th>\n",
       "      <td>1</td>\n",
       "      <td>42</td>\n",
       "    </tr>\n",
       "  </tbody>\n",
       "</table>\n",
       "</div>"
      ],
      "text/plain": [
       "     NoKilled  NoInjured\n",
       "sum         1         42"
      ]
     },
     "metadata": {},
     "output_type": "display_data"
    },
    {
     "name": "stdout",
     "output_type": "stream",
     "text": [
      "Collisions with injuries: 38\n",
      "Collisions with deaths: 1\n"
     ]
    },
    {
     "data": {
      "text/markdown": [
       "**Collisions Involving Seniors: Killed or Injured**"
      ],
      "text/plain": [
       "<IPython.core.display.Markdown object>"
      ]
     },
     "metadata": {},
     "output_type": "display_data"
    },
    {
     "data": {
      "text/html": [
       "<div>\n",
       "<style scoped>\n",
       "    .dataframe tbody tr th:only-of-type {\n",
       "        vertical-align: middle;\n",
       "    }\n",
       "\n",
       "    .dataframe tbody tr th {\n",
       "        vertical-align: top;\n",
       "    }\n",
       "\n",
       "    .dataframe thead th {\n",
       "        text-align: right;\n",
       "    }\n",
       "</style>\n",
       "<table border=\"1\" class=\"dataframe\">\n",
       "  <thead>\n",
       "    <tr style=\"text-align: right;\">\n",
       "      <th></th>\n",
       "      <th>NoKilled</th>\n",
       "      <th>NoInjured</th>\n",
       "    </tr>\n",
       "  </thead>\n",
       "  <tbody>\n",
       "    <tr>\n",
       "      <th>sum</th>\n",
       "      <td>0</td>\n",
       "      <td>57</td>\n",
       "    </tr>\n",
       "  </tbody>\n",
       "</table>\n",
       "</div>"
      ],
      "text/plain": [
       "     NoKilled  NoInjured\n",
       "sum         0         57"
      ]
     },
     "metadata": {},
     "output_type": "display_data"
    },
    {
     "name": "stdout",
     "output_type": "stream",
     "text": [
      "Collisions with injuries: 43\n",
      "Collisions with deaths: 0\n"
     ]
    },
    {
     "data": {
      "text/markdown": [
       "## Wilson"
      ],
      "text/plain": [
       "<IPython.core.display.Markdown object>"
      ]
     },
     "metadata": {},
     "output_type": "display_data"
    },
    {
     "name": "stdout",
     "output_type": "stream",
     "text": [
      "Total collisions 327\n",
      "\n"
     ]
    },
    {
     "data": {
      "text/markdown": [
       "**Total Collisions: Killed or Injured**"
      ],
      "text/plain": [
       "<IPython.core.display.Markdown object>"
      ]
     },
     "metadata": {},
     "output_type": "display_data"
    },
    {
     "data": {
      "text/html": [
       "<div>\n",
       "<style scoped>\n",
       "    .dataframe tbody tr th:only-of-type {\n",
       "        vertical-align: middle;\n",
       "    }\n",
       "\n",
       "    .dataframe tbody tr th {\n",
       "        vertical-align: top;\n",
       "    }\n",
       "\n",
       "    .dataframe thead th {\n",
       "        text-align: right;\n",
       "    }\n",
       "</style>\n",
       "<table border=\"1\" class=\"dataframe\">\n",
       "  <thead>\n",
       "    <tr style=\"text-align: right;\">\n",
       "      <th></th>\n",
       "      <th>NoKilled</th>\n",
       "      <th>NoInjured</th>\n",
       "    </tr>\n",
       "  </thead>\n",
       "  <tbody>\n",
       "    <tr>\n",
       "      <th>sum</th>\n",
       "      <td>2</td>\n",
       "      <td>177</td>\n",
       "    </tr>\n",
       "  </tbody>\n",
       "</table>\n",
       "</div>"
      ],
      "text/plain": [
       "     NoKilled  NoInjured\n",
       "sum         2        177"
      ]
     },
     "metadata": {},
     "output_type": "display_data"
    },
    {
     "name": "stdout",
     "output_type": "stream",
     "text": [
      "Collisions with injuries: 135\n",
      "Collisions with deaths: 2\n"
     ]
    },
    {
     "data": {
      "text/markdown": [
       "**Collisions Involving Bikes: Killed or Injured**"
      ],
      "text/plain": [
       "<IPython.core.display.Markdown object>"
      ]
     },
     "metadata": {},
     "output_type": "display_data"
    },
    {
     "data": {
      "text/html": [
       "<div>\n",
       "<style scoped>\n",
       "    .dataframe tbody tr th:only-of-type {\n",
       "        vertical-align: middle;\n",
       "    }\n",
       "\n",
       "    .dataframe tbody tr th {\n",
       "        vertical-align: top;\n",
       "    }\n",
       "\n",
       "    .dataframe thead th {\n",
       "        text-align: right;\n",
       "    }\n",
       "</style>\n",
       "<table border=\"1\" class=\"dataframe\">\n",
       "  <thead>\n",
       "    <tr style=\"text-align: right;\">\n",
       "      <th></th>\n",
       "      <th>NoKilled</th>\n",
       "      <th>NoInjured</th>\n",
       "    </tr>\n",
       "  </thead>\n",
       "  <tbody>\n",
       "    <tr>\n",
       "      <th>sum</th>\n",
       "      <td>0</td>\n",
       "      <td>28</td>\n",
       "    </tr>\n",
       "  </tbody>\n",
       "</table>\n",
       "</div>"
      ],
      "text/plain": [
       "     NoKilled  NoInjured\n",
       "sum         0         28"
      ]
     },
     "metadata": {},
     "output_type": "display_data"
    },
    {
     "name": "stdout",
     "output_type": "stream",
     "text": [
      "Collisions with injuries: 25\n",
      "Collisions with deaths: 0\n"
     ]
    },
    {
     "data": {
      "text/markdown": [
       "**Collisions Involving Pedestrians: Killed or Injured**"
      ],
      "text/plain": [
       "<IPython.core.display.Markdown object>"
      ]
     },
     "metadata": {},
     "output_type": "display_data"
    },
    {
     "data": {
      "text/html": [
       "<div>\n",
       "<style scoped>\n",
       "    .dataframe tbody tr th:only-of-type {\n",
       "        vertical-align: middle;\n",
       "    }\n",
       "\n",
       "    .dataframe tbody tr th {\n",
       "        vertical-align: top;\n",
       "    }\n",
       "\n",
       "    .dataframe thead th {\n",
       "        text-align: right;\n",
       "    }\n",
       "</style>\n",
       "<table border=\"1\" class=\"dataframe\">\n",
       "  <thead>\n",
       "    <tr style=\"text-align: right;\">\n",
       "      <th></th>\n",
       "      <th>NoKilled</th>\n",
       "      <th>NoInjured</th>\n",
       "    </tr>\n",
       "  </thead>\n",
       "  <tbody>\n",
       "    <tr>\n",
       "      <th>sum</th>\n",
       "      <td>0</td>\n",
       "      <td>17</td>\n",
       "    </tr>\n",
       "  </tbody>\n",
       "</table>\n",
       "</div>"
      ],
      "text/plain": [
       "     NoKilled  NoInjured\n",
       "sum         0         17"
      ]
     },
     "metadata": {},
     "output_type": "display_data"
    },
    {
     "name": "stdout",
     "output_type": "stream",
     "text": [
      "Collisions with injuries: 16\n",
      "Collisions with deaths: 0\n"
     ]
    },
    {
     "data": {
      "text/markdown": [
       "**Collisions Involving Children: Killed or Injured**"
      ],
      "text/plain": [
       "<IPython.core.display.Markdown object>"
      ]
     },
     "metadata": {},
     "output_type": "display_data"
    },
    {
     "data": {
      "text/html": [
       "<div>\n",
       "<style scoped>\n",
       "    .dataframe tbody tr th:only-of-type {\n",
       "        vertical-align: middle;\n",
       "    }\n",
       "\n",
       "    .dataframe tbody tr th {\n",
       "        vertical-align: top;\n",
       "    }\n",
       "\n",
       "    .dataframe thead th {\n",
       "        text-align: right;\n",
       "    }\n",
       "</style>\n",
       "<table border=\"1\" class=\"dataframe\">\n",
       "  <thead>\n",
       "    <tr style=\"text-align: right;\">\n",
       "      <th></th>\n",
       "      <th>NoKilled</th>\n",
       "      <th>NoInjured</th>\n",
       "    </tr>\n",
       "  </thead>\n",
       "  <tbody>\n",
       "    <tr>\n",
       "      <th>sum</th>\n",
       "      <td>1</td>\n",
       "      <td>26</td>\n",
       "    </tr>\n",
       "  </tbody>\n",
       "</table>\n",
       "</div>"
      ],
      "text/plain": [
       "     NoKilled  NoInjured\n",
       "sum         1         26"
      ]
     },
     "metadata": {},
     "output_type": "display_data"
    },
    {
     "name": "stdout",
     "output_type": "stream",
     "text": [
      "Collisions with injuries: 23\n",
      "Collisions with deaths: 1\n"
     ]
    },
    {
     "data": {
      "text/markdown": [
       "**Collisions Involving Seniors: Killed or Injured**"
      ],
      "text/plain": [
       "<IPython.core.display.Markdown object>"
      ]
     },
     "metadata": {},
     "output_type": "display_data"
    },
    {
     "data": {
      "text/html": [
       "<div>\n",
       "<style scoped>\n",
       "    .dataframe tbody tr th:only-of-type {\n",
       "        vertical-align: middle;\n",
       "    }\n",
       "\n",
       "    .dataframe tbody tr th {\n",
       "        vertical-align: top;\n",
       "    }\n",
       "\n",
       "    .dataframe thead th {\n",
       "        text-align: right;\n",
       "    }\n",
       "</style>\n",
       "<table border=\"1\" class=\"dataframe\">\n",
       "  <thead>\n",
       "    <tr style=\"text-align: right;\">\n",
       "      <th></th>\n",
       "      <th>NoKilled</th>\n",
       "      <th>NoInjured</th>\n",
       "    </tr>\n",
       "  </thead>\n",
       "  <tbody>\n",
       "    <tr>\n",
       "      <th>sum</th>\n",
       "      <td>1</td>\n",
       "      <td>45</td>\n",
       "    </tr>\n",
       "  </tbody>\n",
       "</table>\n",
       "</div>"
      ],
      "text/plain": [
       "     NoKilled  NoInjured\n",
       "sum         1         45"
      ]
     },
     "metadata": {},
     "output_type": "display_data"
    },
    {
     "name": "stdout",
     "output_type": "stream",
     "text": [
      "Collisions with injuries: 35\n",
      "Collisions with deaths: 1\n"
     ]
    },
    {
     "data": {
      "text/markdown": [
       "## Sierra Bonita"
      ],
      "text/plain": [
       "<IPython.core.display.Markdown object>"
      ]
     },
     "metadata": {},
     "output_type": "display_data"
    },
    {
     "name": "stdout",
     "output_type": "stream",
     "text": [
      "Total collisions 53\n",
      "\n"
     ]
    },
    {
     "data": {
      "text/markdown": [
       "**Total Collisions: Killed or Injured**"
      ],
      "text/plain": [
       "<IPython.core.display.Markdown object>"
      ]
     },
     "metadata": {},
     "output_type": "display_data"
    },
    {
     "data": {
      "text/html": [
       "<div>\n",
       "<style scoped>\n",
       "    .dataframe tbody tr th:only-of-type {\n",
       "        vertical-align: middle;\n",
       "    }\n",
       "\n",
       "    .dataframe tbody tr th {\n",
       "        vertical-align: top;\n",
       "    }\n",
       "\n",
       "    .dataframe thead th {\n",
       "        text-align: right;\n",
       "    }\n",
       "</style>\n",
       "<table border=\"1\" class=\"dataframe\">\n",
       "  <thead>\n",
       "    <tr style=\"text-align: right;\">\n",
       "      <th></th>\n",
       "      <th>NoKilled</th>\n",
       "      <th>NoInjured</th>\n",
       "    </tr>\n",
       "  </thead>\n",
       "  <tbody>\n",
       "    <tr>\n",
       "      <th>sum</th>\n",
       "      <td>0</td>\n",
       "      <td>36</td>\n",
       "    </tr>\n",
       "  </tbody>\n",
       "</table>\n",
       "</div>"
      ],
      "text/plain": [
       "     NoKilled  NoInjured\n",
       "sum         0         36"
      ]
     },
     "metadata": {},
     "output_type": "display_data"
    },
    {
     "name": "stdout",
     "output_type": "stream",
     "text": [
      "Collisions with injuries: 24\n",
      "Collisions with deaths: 0\n"
     ]
    },
    {
     "data": {
      "text/markdown": [
       "**Collisions Involving Bikes: Killed or Injured**"
      ],
      "text/plain": [
       "<IPython.core.display.Markdown object>"
      ]
     },
     "metadata": {},
     "output_type": "display_data"
    },
    {
     "data": {
      "text/html": [
       "<div>\n",
       "<style scoped>\n",
       "    .dataframe tbody tr th:only-of-type {\n",
       "        vertical-align: middle;\n",
       "    }\n",
       "\n",
       "    .dataframe tbody tr th {\n",
       "        vertical-align: top;\n",
       "    }\n",
       "\n",
       "    .dataframe thead th {\n",
       "        text-align: right;\n",
       "    }\n",
       "</style>\n",
       "<table border=\"1\" class=\"dataframe\">\n",
       "  <thead>\n",
       "    <tr style=\"text-align: right;\">\n",
       "      <th></th>\n",
       "      <th>NoKilled</th>\n",
       "      <th>NoInjured</th>\n",
       "    </tr>\n",
       "  </thead>\n",
       "  <tbody>\n",
       "    <tr>\n",
       "      <th>sum</th>\n",
       "      <td>0</td>\n",
       "      <td>1</td>\n",
       "    </tr>\n",
       "  </tbody>\n",
       "</table>\n",
       "</div>"
      ],
      "text/plain": [
       "     NoKilled  NoInjured\n",
       "sum         0          1"
      ]
     },
     "metadata": {},
     "output_type": "display_data"
    },
    {
     "name": "stdout",
     "output_type": "stream",
     "text": [
      "Collisions with injuries: 1\n",
      "Collisions with deaths: 0\n"
     ]
    },
    {
     "data": {
      "text/markdown": [
       "**Collisions Involving Pedestrians: Killed or Injured**"
      ],
      "text/plain": [
       "<IPython.core.display.Markdown object>"
      ]
     },
     "metadata": {},
     "output_type": "display_data"
    },
    {
     "data": {
      "text/html": [
       "<div>\n",
       "<style scoped>\n",
       "    .dataframe tbody tr th:only-of-type {\n",
       "        vertical-align: middle;\n",
       "    }\n",
       "\n",
       "    .dataframe tbody tr th {\n",
       "        vertical-align: top;\n",
       "    }\n",
       "\n",
       "    .dataframe thead th {\n",
       "        text-align: right;\n",
       "    }\n",
       "</style>\n",
       "<table border=\"1\" class=\"dataframe\">\n",
       "  <thead>\n",
       "    <tr style=\"text-align: right;\">\n",
       "      <th></th>\n",
       "      <th>NoKilled</th>\n",
       "      <th>NoInjured</th>\n",
       "    </tr>\n",
       "  </thead>\n",
       "  <tbody>\n",
       "    <tr>\n",
       "      <th>sum</th>\n",
       "      <td>0</td>\n",
       "      <td>3</td>\n",
       "    </tr>\n",
       "  </tbody>\n",
       "</table>\n",
       "</div>"
      ],
      "text/plain": [
       "     NoKilled  NoInjured\n",
       "sum         0          3"
      ]
     },
     "metadata": {},
     "output_type": "display_data"
    },
    {
     "name": "stdout",
     "output_type": "stream",
     "text": [
      "Collisions with injuries: 3\n",
      "Collisions with deaths: 0\n"
     ]
    },
    {
     "data": {
      "text/markdown": [
       "**Collisions Involving Children: Killed or Injured**"
      ],
      "text/plain": [
       "<IPython.core.display.Markdown object>"
      ]
     },
     "metadata": {},
     "output_type": "display_data"
    },
    {
     "data": {
      "text/html": [
       "<div>\n",
       "<style scoped>\n",
       "    .dataframe tbody tr th:only-of-type {\n",
       "        vertical-align: middle;\n",
       "    }\n",
       "\n",
       "    .dataframe tbody tr th {\n",
       "        vertical-align: top;\n",
       "    }\n",
       "\n",
       "    .dataframe thead th {\n",
       "        text-align: right;\n",
       "    }\n",
       "</style>\n",
       "<table border=\"1\" class=\"dataframe\">\n",
       "  <thead>\n",
       "    <tr style=\"text-align: right;\">\n",
       "      <th></th>\n",
       "      <th>NoKilled</th>\n",
       "      <th>NoInjured</th>\n",
       "    </tr>\n",
       "  </thead>\n",
       "  <tbody>\n",
       "    <tr>\n",
       "      <th>sum</th>\n",
       "      <td>0</td>\n",
       "      <td>10</td>\n",
       "    </tr>\n",
       "  </tbody>\n",
       "</table>\n",
       "</div>"
      ],
      "text/plain": [
       "     NoKilled  NoInjured\n",
       "sum         0         10"
      ]
     },
     "metadata": {},
     "output_type": "display_data"
    },
    {
     "name": "stdout",
     "output_type": "stream",
     "text": [
      "Collisions with injuries: 8\n",
      "Collisions with deaths: 0\n"
     ]
    },
    {
     "data": {
      "text/markdown": [
       "**Collisions Involving Seniors: Killed or Injured**"
      ],
      "text/plain": [
       "<IPython.core.display.Markdown object>"
      ]
     },
     "metadata": {},
     "output_type": "display_data"
    },
    {
     "data": {
      "text/html": [
       "<div>\n",
       "<style scoped>\n",
       "    .dataframe tbody tr th:only-of-type {\n",
       "        vertical-align: middle;\n",
       "    }\n",
       "\n",
       "    .dataframe tbody tr th {\n",
       "        vertical-align: top;\n",
       "    }\n",
       "\n",
       "    .dataframe thead th {\n",
       "        text-align: right;\n",
       "    }\n",
       "</style>\n",
       "<table border=\"1\" class=\"dataframe\">\n",
       "  <thead>\n",
       "    <tr style=\"text-align: right;\">\n",
       "      <th></th>\n",
       "      <th>NoKilled</th>\n",
       "      <th>NoInjured</th>\n",
       "    </tr>\n",
       "  </thead>\n",
       "  <tbody>\n",
       "    <tr>\n",
       "      <th>sum</th>\n",
       "      <td>0</td>\n",
       "      <td>15</td>\n",
       "    </tr>\n",
       "  </tbody>\n",
       "</table>\n",
       "</div>"
      ],
      "text/plain": [
       "     NoKilled  NoInjured\n",
       "sum         0         15"
      ]
     },
     "metadata": {},
     "output_type": "display_data"
    },
    {
     "name": "stdout",
     "output_type": "stream",
     "text": [
      "Collisions with injuries: 8\n",
      "Collisions with deaths: 0\n"
     ]
    },
    {
     "data": {
      "text/markdown": [
       "## Craig"
      ],
      "text/plain": [
       "<IPython.core.display.Markdown object>"
      ]
     },
     "metadata": {},
     "output_type": "display_data"
    },
    {
     "name": "stdout",
     "output_type": "stream",
     "text": [
      "Total collisions 129\n",
      "\n"
     ]
    },
    {
     "data": {
      "text/markdown": [
       "**Total Collisions: Killed or Injured**"
      ],
      "text/plain": [
       "<IPython.core.display.Markdown object>"
      ]
     },
     "metadata": {},
     "output_type": "display_data"
    },
    {
     "data": {
      "text/html": [
       "<div>\n",
       "<style scoped>\n",
       "    .dataframe tbody tr th:only-of-type {\n",
       "        vertical-align: middle;\n",
       "    }\n",
       "\n",
       "    .dataframe tbody tr th {\n",
       "        vertical-align: top;\n",
       "    }\n",
       "\n",
       "    .dataframe thead th {\n",
       "        text-align: right;\n",
       "    }\n",
       "</style>\n",
       "<table border=\"1\" class=\"dataframe\">\n",
       "  <thead>\n",
       "    <tr style=\"text-align: right;\">\n",
       "      <th></th>\n",
       "      <th>NoKilled</th>\n",
       "      <th>NoInjured</th>\n",
       "    </tr>\n",
       "  </thead>\n",
       "  <tbody>\n",
       "    <tr>\n",
       "      <th>sum</th>\n",
       "      <td>0</td>\n",
       "      <td>84</td>\n",
       "    </tr>\n",
       "  </tbody>\n",
       "</table>\n",
       "</div>"
      ],
      "text/plain": [
       "     NoKilled  NoInjured\n",
       "sum         0         84"
      ]
     },
     "metadata": {},
     "output_type": "display_data"
    },
    {
     "name": "stdout",
     "output_type": "stream",
     "text": [
      "Collisions with injuries: 52\n",
      "Collisions with deaths: 0\n"
     ]
    },
    {
     "data": {
      "text/markdown": [
       "**Collisions Involving Bikes: Killed or Injured**"
      ],
      "text/plain": [
       "<IPython.core.display.Markdown object>"
      ]
     },
     "metadata": {},
     "output_type": "display_data"
    },
    {
     "data": {
      "text/html": [
       "<div>\n",
       "<style scoped>\n",
       "    .dataframe tbody tr th:only-of-type {\n",
       "        vertical-align: middle;\n",
       "    }\n",
       "\n",
       "    .dataframe tbody tr th {\n",
       "        vertical-align: top;\n",
       "    }\n",
       "\n",
       "    .dataframe thead th {\n",
       "        text-align: right;\n",
       "    }\n",
       "</style>\n",
       "<table border=\"1\" class=\"dataframe\">\n",
       "  <thead>\n",
       "    <tr style=\"text-align: right;\">\n",
       "      <th></th>\n",
       "      <th>NoKilled</th>\n",
       "      <th>NoInjured</th>\n",
       "    </tr>\n",
       "  </thead>\n",
       "  <tbody>\n",
       "    <tr>\n",
       "      <th>sum</th>\n",
       "      <td>0</td>\n",
       "      <td>4</td>\n",
       "    </tr>\n",
       "  </tbody>\n",
       "</table>\n",
       "</div>"
      ],
      "text/plain": [
       "     NoKilled  NoInjured\n",
       "sum         0          4"
      ]
     },
     "metadata": {},
     "output_type": "display_data"
    },
    {
     "name": "stdout",
     "output_type": "stream",
     "text": [
      "Collisions with injuries: 4\n",
      "Collisions with deaths: 0\n"
     ]
    },
    {
     "data": {
      "text/markdown": [
       "**Collisions Involving Pedestrians: Killed or Injured**"
      ],
      "text/plain": [
       "<IPython.core.display.Markdown object>"
      ]
     },
     "metadata": {},
     "output_type": "display_data"
    },
    {
     "data": {
      "text/html": [
       "<div>\n",
       "<style scoped>\n",
       "    .dataframe tbody tr th:only-of-type {\n",
       "        vertical-align: middle;\n",
       "    }\n",
       "\n",
       "    .dataframe tbody tr th {\n",
       "        vertical-align: top;\n",
       "    }\n",
       "\n",
       "    .dataframe thead th {\n",
       "        text-align: right;\n",
       "    }\n",
       "</style>\n",
       "<table border=\"1\" class=\"dataframe\">\n",
       "  <thead>\n",
       "    <tr style=\"text-align: right;\">\n",
       "      <th></th>\n",
       "      <th>NoKilled</th>\n",
       "      <th>NoInjured</th>\n",
       "    </tr>\n",
       "  </thead>\n",
       "  <tbody>\n",
       "    <tr>\n",
       "      <th>sum</th>\n",
       "      <td>0</td>\n",
       "      <td>3</td>\n",
       "    </tr>\n",
       "  </tbody>\n",
       "</table>\n",
       "</div>"
      ],
      "text/plain": [
       "     NoKilled  NoInjured\n",
       "sum         0          3"
      ]
     },
     "metadata": {},
     "output_type": "display_data"
    },
    {
     "name": "stdout",
     "output_type": "stream",
     "text": [
      "Collisions with injuries: 3\n",
      "Collisions with deaths: 0\n"
     ]
    },
    {
     "data": {
      "text/markdown": [
       "**Collisions Involving Children: Killed or Injured**"
      ],
      "text/plain": [
       "<IPython.core.display.Markdown object>"
      ]
     },
     "metadata": {},
     "output_type": "display_data"
    },
    {
     "data": {
      "text/html": [
       "<div>\n",
       "<style scoped>\n",
       "    .dataframe tbody tr th:only-of-type {\n",
       "        vertical-align: middle;\n",
       "    }\n",
       "\n",
       "    .dataframe tbody tr th {\n",
       "        vertical-align: top;\n",
       "    }\n",
       "\n",
       "    .dataframe thead th {\n",
       "        text-align: right;\n",
       "    }\n",
       "</style>\n",
       "<table border=\"1\" class=\"dataframe\">\n",
       "  <thead>\n",
       "    <tr style=\"text-align: right;\">\n",
       "      <th></th>\n",
       "      <th>NoKilled</th>\n",
       "      <th>NoInjured</th>\n",
       "    </tr>\n",
       "  </thead>\n",
       "  <tbody>\n",
       "    <tr>\n",
       "      <th>sum</th>\n",
       "      <td>0</td>\n",
       "      <td>17</td>\n",
       "    </tr>\n",
       "  </tbody>\n",
       "</table>\n",
       "</div>"
      ],
      "text/plain": [
       "     NoKilled  NoInjured\n",
       "sum         0         17"
      ]
     },
     "metadata": {},
     "output_type": "display_data"
    },
    {
     "name": "stdout",
     "output_type": "stream",
     "text": [
      "Collisions with injuries: 14\n",
      "Collisions with deaths: 0\n"
     ]
    },
    {
     "data": {
      "text/markdown": [
       "**Collisions Involving Seniors: Killed or Injured**"
      ],
      "text/plain": [
       "<IPython.core.display.Markdown object>"
      ]
     },
     "metadata": {},
     "output_type": "display_data"
    },
    {
     "data": {
      "text/html": [
       "<div>\n",
       "<style scoped>\n",
       "    .dataframe tbody tr th:only-of-type {\n",
       "        vertical-align: middle;\n",
       "    }\n",
       "\n",
       "    .dataframe tbody tr th {\n",
       "        vertical-align: top;\n",
       "    }\n",
       "\n",
       "    .dataframe thead th {\n",
       "        text-align: right;\n",
       "    }\n",
       "</style>\n",
       "<table border=\"1\" class=\"dataframe\">\n",
       "  <thead>\n",
       "    <tr style=\"text-align: right;\">\n",
       "      <th></th>\n",
       "      <th>NoKilled</th>\n",
       "      <th>NoInjured</th>\n",
       "    </tr>\n",
       "  </thead>\n",
       "  <tbody>\n",
       "    <tr>\n",
       "      <th>sum</th>\n",
       "      <td>0</td>\n",
       "      <td>20</td>\n",
       "    </tr>\n",
       "  </tbody>\n",
       "</table>\n",
       "</div>"
      ],
      "text/plain": [
       "     NoKilled  NoInjured\n",
       "sum         0         20"
      ]
     },
     "metadata": {},
     "output_type": "display_data"
    },
    {
     "name": "stdout",
     "output_type": "stream",
     "text": [
      "Collisions with injuries: 15\n",
      "Collisions with deaths: 0\n"
     ]
    }
   ],
   "source": [
    "# aggregate\n",
    "for street, df in greenways_df.items():\n",
    "    display(Markdown(f'## {street}'))\n",
    "    print(f'Total collisions {len(df)}\\n')\n",
    "    display(Markdown(f'**Total Collisions: Killed or Injured**'))\n",
    "    display(df.agg({'NoKilled': ['sum'], 'NoInjured' : ['sum']}))\n",
    "    print(f'Collisions with injuries: %s' %len(df.loc[(df['NoInjured'] > 0)]))\n",
    "    print(f'Collisions with deaths: %s' %len(df.loc[(df['NoKilled'] > 0)]))\n",
    "\n",
    "    bikes_df = df.loc[(df['InvWith'] == 'Bicycle') | (df['VehType1'] == 'Bicycle') | (df['VehType2'] == 'Bicycle')]\n",
    "    display(Markdown(f'**Collisions Involving Bikes: Killed or Injured**'))\n",
    "    display(bikes_df.agg({'NoKilled': ['sum'], 'NoInjured' : ['sum']}))\n",
    "    print(f'Collisions with injuries: %s' %len(bikes_df.loc[(df['NoInjured'] > 0)]))\n",
    "    print(f'Collisions with deaths: %s' %len(bikes_df.loc[(df['NoKilled'] > 0)]))\n",
    "\n",
    "    peds_df = df.loc[(df['InvWith'] == 'Pedestrian') | (df['VehType1'] == 'Pedestrian') | (df['VehType2'] == 'Pedestrian')]\n",
    "    display(Markdown(f'**Collisions Involving Pedestrians: Killed or Injured**'))\n",
    "    display(peds_df.agg({'NoKilled': ['sum'], 'NoInjured' : ['sum']}))\n",
    "    print(f'Collisions with injuries: %s' %len(peds_df.loc[(df['NoInjured'] > 0)]))\n",
    "    print(f'Collisions with deaths: %s' %len(peds_df.loc[(df['NoKilled'] > 0)]))\n",
    "\n",
    "    child_df = df.loc[(df['AgeGroup1'] == 'Child') | (df['AgeGroup2'] == 'Child')]\n",
    "    display(Markdown(f'**Collisions Involving Children: Killed or Injured**'))\n",
    "    display(child_df.agg({'NoKilled': ['sum'], 'NoInjured' : ['sum']}))\n",
    "    print(f'Collisions with injuries: %s' %len(child_df.loc[(df['NoInjured'] > 0)]))\n",
    "    print(f'Collisions with deaths: %s' %len(child_df.loc[(df['NoKilled'] > 0)]))\n",
    "\n",
    "    senior_df = df.loc[(df['AgeGroup1'] == 'Senior') | (df['AgeGroup2'] == 'Senior')]\n",
    "    display(Markdown(f'**Collisions Involving Seniors: Killed or Injured**'))\n",
    "    display(senior_df.agg({'NoKilled': ['sum'], 'NoInjured' : ['sum']}))\n",
    "    print(f'Collisions with injuries: %s' %len(senior_df.loc[(df['NoInjured'] > 0)]))\n",
    "    print(f'Collisions with deaths: %s' %len(senior_df.loc[(df['NoKilled'] > 0)]))\n",
    "    \n",
    "    # plot\n",
    "    fig = px.density_mapbox(df, lat='lat', lon='lon', radius=4,\n",
    "                            center=dict(lat=34.15127, lon=-118.1369), zoom=13,\n",
    "                            mapbox_style=\"stamen-terrain\", height=1000, )\n",
    "    # fig.show()\n",
    "    \n",
    "    # Cause\n",
    "    df.Cause.value_counts()"
   ]
  },
  {
   "cell_type": "code",
   "execution_count": null,
   "id": "9b3ba2bf-6e7c-4c60-af80-8cbfa96e9a62",
   "metadata": {},
   "outputs": [],
   "source": []
  }
 ],
 "metadata": {
  "kernelspec": {
   "display_name": "Python 3 (ipykernel)",
   "language": "python",
   "name": "python3"
  },
  "language_info": {
   "codemirror_mode": {
    "name": "ipython",
    "version": 3
   },
   "file_extension": ".py",
   "mimetype": "text/x-python",
   "name": "python",
   "nbconvert_exporter": "python",
   "pygments_lexer": "ipython3",
   "version": "3.10.12"
  }
 },
 "nbformat": 4,
 "nbformat_minor": 5
}
